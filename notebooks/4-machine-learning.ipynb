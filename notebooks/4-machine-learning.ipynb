{
 "cells": [
  {
   "cell_type": "code",
   "execution_count": 1,
   "metadata": {},
   "outputs": [
    {
     "name": "stdout",
     "output_type": "stream",
     "text": [
      "images (50, 100, 20, 20)\n",
      "train_features (2500, 400)\n",
      "test_features (2500, 400)\n",
      "train_labels (2500, 1)\n",
      "Accuracy: {} 91.64\n"
     ]
    }
   ],
   "source": [
    "import cv2\n",
    "import numpy as np\n",
    "\n",
    "#load image\n",
    "mnist = cv2.imread('../datasets/digits.png', 0)\n",
    "\n",
    "#image width, height in pixels\n",
    "#print(mnist.shape)\n",
    "\n",
    "images = [np.hsplit(row, 100)\n",
    "         for row in np.vsplit(mnist, 50)\n",
    "         ]\n",
    "images = np.array(images, dtype=np.float32)\n",
    "print('images', images.shape)\n",
    "\n",
    "#split into train/test\n",
    "train_features = images[:, :50].reshape(-1, (20 * 20))\n",
    "print('train_features', train_features.shape)\n",
    "\n",
    "#split into train/test\n",
    "test_features = images[:, 50:100].reshape(-1, (20*20))\n",
    "print('test_features', test_features.shape)\n",
    "\n",
    "#create labels\n",
    "#arange from 0-9 exclusive of 10\n",
    "k = np.arange(10)\n",
    "train_labels = np.repeat(k, 250).reshape(-1, 1)\n",
    "test_labels = train_labels.copy()\n",
    "print('train_labels', train_labels.shape)\n",
    "\n",
    "#create kNN model\n",
    "knn = cv2.ml.KNearest_create()\n",
    "\n",
    "#train the kNN model\n",
    "knn.train(train_features, cv2.ml.ROW_SAMPLE, train_labels)\n",
    "\n",
    "#use k = 3\n",
    "ret, result, neighbors, dist = knn.findNearest(test_features, 3)\n",
    "\n",
    "#check if the results are correct\n",
    "matches = np.equal(result, test_labels)\n",
    "\n",
    "#convert bool to int\n",
    "matches = matches.astype(np.int)\n",
    "\n",
    "#count correct predictions\n",
    "correct = np.count_nonzero(matches)\n",
    "\n",
    "#compute the accuracy\n",
    "accuracy = (correct * 100.00) / result.size\n",
    "\n",
    "#display test accuracy\n",
    "print('Accuracy: {}', format(accuracy))"
   ]
  },
  {
   "cell_type": "code",
   "execution_count": null,
   "metadata": {},
   "outputs": [],
   "source": []
  },
  {
   "cell_type": "code",
   "execution_count": null,
   "metadata": {},
   "outputs": [],
   "source": []
  },
  {
   "cell_type": "code",
   "execution_count": 2,
   "metadata": {},
   "outputs": [
    {
     "name": "stdout",
     "output_type": "stream",
     "text": [
      "(840, 840)\n",
      "(30, 30, 28, 28)\n",
      "(450, 784)\n",
      "70.88888888888889\n"
     ]
    }
   ],
   "source": [
    "import cv2\n",
    "import numpy as np\n",
    "import matplotlib.pyplot as plt\n",
    "\n",
    "#load image\n",
    "mnist = cv2.imread('../datasets/fashion.png',0)\n",
    "\n",
    "#shape is in the form of (y,x)\n",
    "print(mnist.shape)\n",
    "\n",
    "#get region of interest by splitting the images\n",
    "images = np.array([np.hsplit(row,30) for row in np.vsplit(mnist,30)], dtype=np.float32)\n",
    "print(images.shape)\n",
    "\n",
    "plt.imshow(images[0,22],cmap=\"gray\")\n",
    "\n",
    "#split images to get half of the image as train then the rest for test\n",
    "train_features = images[:, :15].reshape(-1,(28*28))\n",
    "\n",
    "#split the remaining for test\n",
    "test_feature = images[:, 15:30].reshape(-1,(28 * 28))\n",
    "\n",
    "print(train_features.shape)\n",
    "\n",
    "#create labels | k = classes | \n",
    "k = np.arange(10)\n",
    "train_labels = np.repeat(k,45).reshape(-1, 1)\n",
    "test_labels = train_labels.copy()\n",
    "\n",
    "#create kNN Model\n",
    "knn = cv2.ml.KNearest_create()\n",
    "\n",
    "#train the kNN Model\n",
    "knn.train(train_features, cv2.ml.ROW_SAMPLE,train_labels)\n",
    "\n",
    "#using the trained model\n",
    "ret,result,neighbors, dist = knn.findNearest(test_feature,3)\n",
    "\n",
    "#check accuracy\n",
    "matches = np.equal(result,test_labels)\n",
    "matches = matches.astype(np.int)\n",
    "correct = np.count_nonzero(matches)\n",
    "accuracy = (correct * 100.00)/result.size\n",
    "\n",
    "print(accuracy)"
   ]
  },
  {
   "cell_type": "code",
   "execution_count": 2,
   "metadata": {},
   "outputs": [
    {
     "name": "stdout",
     "output_type": "stream",
     "text": [
      "(840, 840)\n",
      "(30, 30, 28, 28)\n",
      "(450, 784)\n",
      "74.66666666666667\n"
     ]
    },
    {
     "data": {
      "image/png": "[encoded data removed]",
      "text/plain": [
       "<Figure size 432x288 with 1 Axes>"
      ]
     },
     "metadata": {},
     "output_type": "display_data"
    }
   ],
   "source": [
    "import cv2 \n",
    "import numpy as np\n",
    "import matplotlib.pyplot as plt\n",
    "#load image\n",
    "mnist = cv2.imread('../datasets/fashion.png',0)\n",
    "#shape is in the form of (y,x)\n",
    "print(mnist.shape)\n",
    "#get region of interest by splitting the images\n",
    "images = np.array([np.hsplit(row,30) for row in np.vsplit(mnist,30)], dtype=np.float32)\n",
    "print(images.shape)\n",
    "plt.imshow(images[0,22],cmap=\"gray\")\n",
    "#split images to get half of the image as train then the rest for test\n",
    "train_features = images[:, :15].reshape(-1,(28*28))\n",
    "\n",
    "#split the remaining for test\n",
    "test_features = images[:, 15:30].reshape(-1,(28 * 28))\n",
    "print(train_features.shape)\n",
    "#create labels | k = classes | \n",
    "k = np.arange(10)\n",
    "train_labels = np.repeat(k,45).reshape(-1, 1)\n",
    "test_labels = train_labels.copy()\n",
    "model = cv2.ml.SVM_create()\n",
    "model.setKernel(cv2.ml.SVM_LINEAR)\n",
    "model.setC(2.67)\n",
    "model.setGamma(5.383)\n",
    "model.setType(cv2.ml.SVM_C_SVC)\n",
    "model.train(train_features, cv2.ml.ROW_SAMPLE, train_labels)\n",
    "result = model.predict(test_features)\n",
    "#check accuracy\n",
    "matches = np.equal(result[1],test_labels)\n",
    "matches = matches.astype(np.int)\n",
    "correct = np.count_nonzero(matches)\n",
    "accuracy = (correct * 100.00)/result[1].size\n",
    "print(accuracy)   "
   ]
  },
  {
   "cell_type": "code",
   "execution_count": null,
   "metadata": {},
   "outputs": [],
   "source": [
    "import cv2 \n",
    "import numpy as np\n",
    "import matplotlib.pyplot as plt\n",
    "#load image\n",
    "mnist = cv2.imread('../datasets/fashion.png',0)\n",
    "#shape is in the form of (y,x)\n",
    "print(mnist.shape)\n",
    "#get region of interest by splitting the images\n",
    "images = np.array([np.hsplit(row,30) for row in np.vsplit(mnist,30)], dtype=np.float32)\n",
    "print(images.shape)\n",
    "plt.imshow(images[0,22],cmap=\"gray\")\n",
    "#split images to get half of the image as train then the rest for test\n",
    "#train_features = images[:, :15].reshape(-1,(28*28))\n",
    "\n",
    "#split the remaining for test\n",
    "#test_features = images[:, 15:30].reshape(-1,(28 * 28))\n",
    "print(train_features.shape)\n",
    "\n",
    "#mean normalization\n",
    "train_features -= np.mean(train_features, axis=0)\n",
    "test_features -= np.mean(train_features, axis=0)\n",
    "\n",
    "#create labels | k = classes | \n",
    "k = np.arange(10)\n",
    "train_labels = np.repeat(k,45).reshape(-1, 1)\n",
    "test_labels = train_labels.copy()\n",
    "model = cv2.ml.SVM_create()\n",
    "model.setKernel(cv2.ml.SVM_LINEAR)\n",
    "model.setC(2.67)\n",
    "model.setGamma(5.383)\n",
    "model.setType(cv2.ml.SVM_C_SVC)\n",
    "model.train(train_features, cv2.ml.ROW_SAMPLE, train_labels)\n",
    "result = model.predict(test_features)\n",
    "#check accuracy\n",
    "matches = np.equal(result[1],test_labels)\n",
    "matches = matches.astype(np.int)\n",
    "correct = np.count_nonzero(matches)\n",
    "accuracy = (correct * 100.00)/result[1].size\n",
    "print(accuracy)   "
   ]
  },
  {
   "cell_type": "code",
   "execution_count": 12,
   "metadata": {},
   "outputs": [
    {
     "name": "stdout",
     "output_type": "stream",
     "text": [
      "(1000, 2000)\n",
      "(50, 100, 20, 20)\n"
     ]
    },
    {
     "data": {
      "image/png": "[encoded data removed]",
      "text/plain": [
       "<Figure size 432x288 with 1 Axes>"
      ]
     },
     "metadata": {},
     "output_type": "display_data"
    },
    {
     "name": "stdout",
     "output_type": "stream",
     "text": [
      "Accuray PCA: 92.24\n"
     ]
    },
    {
     "data": {
      "image/png": "[encoded data removed]",
      "text/plain": [
       "<Figure size 432x288 with 1 Axes>"
      ]
     },
     "metadata": {},
     "output_type": "display_data"
    }
   ],
   "source": [
    "from sklearn.decomposition import PCA\n",
    "import cv2\n",
    "import numpy as np\n",
    "import matplotlib.pyplot as plt\n",
    "\n",
    "\n",
    "mnist = cv2.imread('../datasets/digits.png', 0)\n",
    "print(mnist.shape)\n",
    "images = np.array([np.hsplit(row, 100) for row in np.vsplit(mnist, 50)], dtype=np.float32)\n",
    "print(images.shape)\n",
    "\n",
    "pca = PCA(n_components=images.shape[1])\n",
    "\n",
    "\n",
    "\n",
    "pca = PCA(n_components=100)\n",
    "train_features = images[:, :50].reshape(-1, (20* 20))\n",
    "test_features = images[:, 50:100].reshape(-1, (20* 20))\n",
    "pca.fit(train_features)\n",
    "train_features = pca.transform(train_features)\n",
    "test_features = pca.transform(test_features)\n",
    "train_features.shape, test_features.shape\n",
    "\n",
    "plt.plot(np.cumsum(pca.explained_variance_ratio_))\n",
    "plt.xlabel('Number of components')\n",
    "plt.ylabel('Cumulative explained variance')\n",
    "plt.show()\n",
    "\n",
    "inverse_pca = pca.inverse_transform(train_features)\n",
    "inverse_pca.shape\n",
    "plt.imshow(inverse_pca[0].reshape(20,20), cmap='gray')\n",
    "\n",
    "k = np.arange(10)\n",
    "train_labels = np.repeat(k, 250).reshape(-1, 1)\n",
    "test_labels = train_labels.copy()\n",
    "knn = cv2.ml.KNearest_create()\n",
    "knn.train(train_features, cv2.ml.ROW_SAMPLE, train_labels)\n",
    "ret, result, neighbors, dist = knn.findNearest(test_features, 3)\n",
    "matches = np.equal(result, test_labels)\n",
    "matches = matches.astype(np.int)\n",
    "correct = np.count_nonzero(matches)\n",
    "accuray = (correct * 100.00) / result.size\n",
    "print('Accuray PCA: {}'.format(accuray)) "
   ]
  },
  {
   "cell_type": "code",
   "execution_count": null,
   "metadata": {},
   "outputs": [],
   "source": []
  }
 ],
 "metadata": {
  "kernelspec": {
   "display_name": "Python 3",
   "language": "python",
   "name": "python3"
  },
  "language_info": {
   "codemirror_mode": {
    "name": "ipython",
    "version": 3
   },
   "file_extension": ".py",
   "mimetype": "text/x-python",
   "name": "python",
   "nbconvert_exporter": "python",
   "pygments_lexer": "ipython3",
   "version": "3.6.5"
  }
 },
 "nbformat": 4,
 "nbformat_minor": 2
}
